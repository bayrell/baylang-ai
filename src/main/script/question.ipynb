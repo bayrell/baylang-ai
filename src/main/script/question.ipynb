{
 "cells": [
  {
   "cell_type": "code",
   "execution_count": 1,
   "metadata": {},
   "outputs": [],
   "source": [
    "import sys, os\n",
    "sys.path.append(os.path.join(os.path.dirname(os.getcwd()), \"backend\"))"
   ]
  },
  {
   "cell_type": "code",
   "execution_count": 2,
   "metadata": {},
   "outputs": [],
   "source": [
    "# Автоперезагрузка файлов\n",
    "%load_ext autoreload\n",
    "%autoreload 2\n",
    "\n",
    "# Set env\n",
    "os.environ[\"PYTHONDONTWRITEBYTECODE\"] = \"1\""
   ]
  },
  {
   "cell_type": "code",
   "execution_count": 3,
   "metadata": {},
   "outputs": [],
   "source": [
    "from ai import Question\n",
    "from langchain_core.messages import AIMessage, AIMessageChunk"
   ]
  },
  {
   "cell_type": "code",
   "execution_count": 4,
   "metadata": {},
   "outputs": [],
   "source": [
    "question = Question()"
   ]
  },
  {
   "cell_type": "code",
   "execution_count": 32,
   "metadata": {},
   "outputs": [
    {
     "name": "stdout",
     "output_type": "stream",
     "text": [
      "[{'block': 'text', 'content': 'Код на JS:'}, {'block': 'code', 'content': '```javascript\\na = 1\\na = 2\\na = 3\\n```'}]\n"
     ]
    }
   ],
   "source": [
    "question.lines = []\n",
    "question.add_chunk_message(AIMessageChunk(\"Код на JS:\\n\"))\n",
    "question.add_chunk_message(AIMessageChunk(\"```javascript\\n\"))\n",
    "question.add_chunk_message(AIMessageChunk(\"a = 1\\n\"))\n",
    "question.add_chunk_message(AIMessageChunk(\"a = 2\\n\"))\n",
    "question.add_chunk_message(AIMessageChunk(\"a = 3\\n\"))\n",
    "question.add_chunk_message(AIMessageChunk(\"```\"))\n",
    "question.add_chunk_message(AIMessageChunk(\"\\n\"))\n",
    "print(question.get_content())"
   ]
  }
 ],
 "metadata": {
  "kernelspec": {
   "display_name": "Python 3",
   "language": "python",
   "name": "python3"
  },
  "language_info": {
   "codemirror_mode": {
    "name": "ipython",
    "version": 3
   },
   "file_extension": ".py",
   "mimetype": "text/x-python",
   "name": "python",
   "nbconvert_exporter": "python",
   "pygments_lexer": "ipython3",
   "version": "3.10.12"
  }
 },
 "nbformat": 4,
 "nbformat_minor": 2
}
