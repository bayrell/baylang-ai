{
 "cells": [
  {
   "cell_type": "code",
   "execution_count": 1,
   "metadata": {},
   "outputs": [],
   "source": [
    "import sys, os\n",
    "sys.path.append(os.path.join(os.path.dirname(os.getcwd()), \"backend\"))"
   ]
  },
  {
   "cell_type": "code",
   "execution_count": 2,
   "metadata": {},
   "outputs": [],
   "source": [
    "# Автоперезагрузка файлов\n",
    "%load_ext autoreload\n",
    "%autoreload 2\n",
    "\n",
    "# Set env\n",
    "os.environ[\"PYTHONDONTWRITEBYTECODE\"] = \"1\""
   ]
  },
  {
   "cell_type": "code",
   "execution_count": 3,
   "metadata": {},
   "outputs": [],
   "source": [
    "from ai import Question\n",
    "from app import App\n",
    "from langchain_core.messages import AIMessage, AIMessageChunk\n",
    "from pydantic import BaseModel, PositiveInt\n",
    "from model import Chat, Message"
   ]
  },
  {
   "cell_type": "code",
   "execution_count": 4,
   "metadata": {},
   "outputs": [],
   "source": [
    "os.environ[\"MYSQL_HOST\"] = \"database_mysql\"\n",
    "os.environ[\"MYSQL_USERNAME\"] = \"baylang_ai\"\n",
    "os.environ[\"MYSQL_PASSWORD\"] = \"baylang_ai\"\n",
    "os.environ[\"MYSQL_DATABASE\"] = \"baylang_ai\""
   ]
  },
  {
   "cell_type": "code",
   "execution_count": 5,
   "metadata": {},
   "outputs": [],
   "source": [
    "app = App()"
   ]
  },
  {
   "cell_type": "code",
   "execution_count": 7,
   "metadata": {},
   "outputs": [],
   "source": [
    "database = app.get(\"database\")\n",
    "\n",
    "chat_id = 1753547313467\n",
    "chat = await Chat.get_by_id(database, chat_id, fields=[\"id\", \"name\"])\n",
    "messages = await Message.get_by_chat_id(database, chat=chat, fields=[\"id\", \"sender\", \"chat_id\", \"content\"])"
   ]
  },
  {
   "cell_type": "code",
   "execution_count": 8,
   "metadata": {},
   "outputs": [
    {
     "data": {
      "text/plain": [
       "BlockText(block='text', content='\\nЕсли у вас есть конкретный запрос или задача по программированию, я готов помочь и предоставить вам полезную информацию.')"
      ]
     },
     "metadata": {},
     "output_type": "display_data"
    }
   ],
   "source": [
    "#display(chat)\n",
    "display(messages[0].get_last_block())"
   ]
  },
  {
   "cell_type": "code",
   "execution_count": 51,
   "metadata": {},
   "outputs": [
    {
     "name": "stdout",
     "output_type": "stream",
     "text": [
      "None\n"
     ]
    }
   ],
   "source": [
    "item = {\"a\":\"1\"}\n",
    "print(item.get(\"b\"))"
   ]
  },
  {
   "cell_type": "code",
   "execution_count": null,
   "metadata": {},
   "outputs": [
    {
     "name": "stdout",
     "output_type": "stream",
     "text": [
      "{'id': 45, 'chat_id': 1753547313467, 'chat': None, 'sender': 'assistant', 'content': [{'block': 'text', 'content': 'Конечно! Моя основная функция - это помощь с информацией по программированию и ответы на технические вопросы. Я могу выполнять математические операции, такие как сложение и умножение, если это необходимо для решения задач или предоставления точных значений.'}, {'block': 'text', 'content': '\\n'}, {'block': 'text', 'content': '\\nДополнительно я могу использовать специальные инструменты, которые помогают в выполнении более сложных технических заданий. Например, есть функция <tool>, которая может выполнять магические операции над числовыми входными данными.'}, {'block': 'text', 'content': '\\n'}, {'block': 'text', 'content': '\\nЕсли у вас есть конкретный запрос или задача по программированию, я готов помочь и предоставить вам полезную информацию.'}], 'input_tokens': 601, 'output_tokens': 160, 'total_tokens': 761, 'gmtime_created': datetime.datetime(2025, 7, 26, 16, 31, 30), 'gmtime_updated': datetime.datetime(2025, 7, 26, 16, 32, 20)}\n"
     ]
    }
   ],
   "source": [
    "print(messages[0])"
   ]
  },
  {
   "cell_type": "code",
   "execution_count": 7,
   "metadata": {},
   "outputs": [
    {
     "data": {
      "text/plain": [
       "User(id=100, name='Test user')"
      ]
     },
     "metadata": {},
     "output_type": "display_data"
    }
   ],
   "source": [
    "class User(BaseModel):\n",
    "    id: int\n",
    "    name: str\n",
    "\n",
    "row = {\n",
    "    \"id\": \"100\",\n",
    "    \"name\": \"Test user\"\n",
    "}\n",
    "\n",
    "user = User(**row)\n",
    "display(user)"
   ]
  }
 ],
 "metadata": {
  "kernelspec": {
   "display_name": "Python 3",
   "language": "python",
   "name": "python3"
  },
  "language_info": {
   "codemirror_mode": {
    "name": "ipython",
    "version": 3
   },
   "file_extension": ".py",
   "mimetype": "text/x-python",
   "name": "python",
   "nbconvert_exporter": "python",
   "pygments_lexer": "ipython3",
   "version": "3.10.12"
  }
 },
 "nbformat": 4,
 "nbformat_minor": 2
}
