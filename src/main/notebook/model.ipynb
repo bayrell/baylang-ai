{
 "cells": [
  {
   "cell_type": "code",
   "execution_count": 1,
   "metadata": {},
   "outputs": [],
   "source": [
    "import sys, os\n",
    "sys.dont_write_bytecode = True\n",
    "sys.path.append(os.path.join(os.path.dirname(os.getcwd()), \"backend\"))\n",
    "\n",
    "# Автоперезагрузка файлов\n",
    "%load_ext autoreload\n",
    "%autoreload 2\n",
    "\n",
    "# Set env\n",
    "os.environ[\"PYTHONDONTWRITEBYTECODE\"] = \"1\"\n",
    "os.environ[\"MYSQL_HOST\"] = \"database_mysql\"\n",
    "os.environ[\"MYSQL_USERNAME\"] = \"baylang_ai\"\n",
    "os.environ[\"MYSQL_PASSWORD\"] = \"baylang_ai\"\n",
    "os.environ[\"MYSQL_DATABASE\"] = \"baylang_ai\""
   ]
  },
  {
   "cell_type": "code",
   "execution_count": 2,
   "metadata": {},
   "outputs": [],
   "source": [
    "from ai import Question\n",
    "from app import App\n",
    "from langchain_core.messages import AIMessage, AIMessageChunk\n",
    "from pydantic import BaseModel, PositiveInt\n",
    "from model import Chat, Message\n",
    "\n",
    "app = App()\n",
    "database = app.get(\"database\")"
   ]
  },
  {
   "cell_type": "code",
   "execution_count": null,
   "metadata": {},
   "outputs": [],
   "source": [
    "chat_id = 1753547313467\n",
    "chat = await Chat.get_by_id(database, chat_id, fields=[\"id\", \"name\"])\n",
    "messages = await Message.get_by_chat_id(database, chat=chat, fields=[\"id\", \"sender\", \"chat_id\", \"content\"])"
   ]
  },
  {
   "cell_type": "code",
   "execution_count": null,
   "metadata": {},
   "outputs": [
    {
     "data": {
      "text/plain": [
       "[Message(id=45, chat_id=1753547313467, chat=None, sender='ai', content=[BlockText(block='text', content='Конечно! Моя основная функция - это помощь с информацией по программированию и ответы на технические вопросы. Я могу выполнять математические операции, такие как сложение и умножение, если это необходимо для решения задач или предоставления точных значений.'), BlockText(block='text', content='\\n'), BlockText(block='text', content='\\nДополнительно я могу использовать специальные инструменты, которые помогают в выполнении более сложных технических заданий. Например, есть функция <tool>, которая может выполнять магические операции над числовыми входными данными.'), BlockText(block='text', content='\\n'), BlockText(block='text', content='\\nЕсли у вас есть конкретный запрос или задача по программированию, я готов помочь и предоставить вам полезную информацию.')], input_tokens=0, output_tokens=0, total_tokens=0, gmtime_created=None, gmtime_updated=None),\n",
       " Message(id=44, chat_id=1753547313467, chat=None, sender='human', content=[BlockText(block='text', content='расскажи подробнее')], input_tokens=0, output_tokens=0, total_tokens=0, gmtime_created=None, gmtime_updated=None),\n",
       " Message(id=43, chat_id=1753547313467, chat=None, sender='ai', content=[BlockText(block='text', content='Мои основные функции включают предоставление информации по программированию, помощь с техническими вопросами и ответы на запросы по этой тематике. Я также могу выполнять математические операции, если это необходимо для решения задач или предоставления точных значений.')], input_tokens=0, output_tokens=0, total_tokens=0, gmtime_created=None, gmtime_updated=None),\n",
       " Message(id=42, chat_id=1753547313467, chat=None, sender='human', content=[BlockText(block='text', content='А какие твои основные функции?')], input_tokens=0, output_tokens=0, total_tokens=0, gmtime_created=None, gmtime_updated=None),\n",
       " Message(id=41, chat_id=1753547313467, chat=None, sender='ai', content=[BlockText(block='text', content='Здравствуйте! Я был создан для помощи с информацией по программированию и другим запросам. Временно не могу отвечать на личные вопросы, так как это не входит в мои основные функции. Но всегда готов помочь с любыми техническими вопросами или запросами по программированию.')], input_tokens=0, output_tokens=0, total_tokens=0, gmtime_created=None, gmtime_updated=None),\n",
       " Message(id=40, chat_id=1753547313467, chat=None, sender='human', content=[BlockText(block='text', content='а почему временно не можешь отвечать на личные вопросы?')], input_tokens=0, output_tokens=0, total_tokens=0, gmtime_created=None, gmtime_updated=None),\n",
       " Message(id=39, chat_id=1753547313467, chat=None, sender='ai', content=[BlockText(block='text', content='Здравствуйте! Меня зовут ИИ-консультант. Временно не имею возможности отвечать на личные вопросы, но могу помочь с информацией по программированию или другим запросам. Что вас интересует сегодня?')], input_tokens=0, output_tokens=0, total_tokens=0, gmtime_created=None, gmtime_updated=None),\n",
       " Message(id=38, chat_id=1753547313467, chat=None, sender='human', content=[BlockText(block='text', content='Привет! Как дела? Что нового сегодня?')], input_tokens=0, output_tokens=0, total_tokens=0, gmtime_created=None, gmtime_updated=None)]"
      ]
     },
     "metadata": {},
     "output_type": "display_data"
    },
    {
     "data": {
      "text/plain": [
       "BlockText(block='text', content='\\nЕсли у вас есть конкретный запрос или задача по программированию, я готов помочь и предоставить вам полезную информацию.')"
      ]
     },
     "metadata": {},
     "output_type": "display_data"
    }
   ],
   "source": [
    "#display(chat)\n",
    "#display(messages)\n",
    "display(messages[0].get_last_block())"
   ]
  },
  {
   "cell_type": "code",
   "execution_count": 51,
   "metadata": {},
   "outputs": [
    {
     "name": "stdout",
     "output_type": "stream",
     "text": [
      "None\n"
     ]
    }
   ],
   "source": [
    "item = {\"a\":\"1\"}\n",
    "print(item.get(\"b\"))"
   ]
  },
  {
   "cell_type": "code",
   "execution_count": null,
   "metadata": {},
   "outputs": [],
   "source": [
    "print(messages[0])"
   ]
  },
  {
   "cell_type": "code",
   "execution_count": 4,
   "metadata": {},
   "outputs": [
    {
     "name": "stdout",
     "output_type": "stream",
     "text": [
      "['id']\n"
     ]
    }
   ],
   "source": [
    "chat = Chat()\n",
    "chat.id = 10\n",
    "\n",
    "print(chat.updated())"
   ]
  },
  {
   "cell_type": "code",
   "execution_count": 35,
   "metadata": {},
   "outputs": [],
   "source": [
    "chat_items = await Chat.load_all(database)\n",
    "chat_messages = await Message.get_by_chat_id(database, chat=chat_items)\n",
    "Chat.add_foreign_items(chat_items, \"messages\", chat_messages, \"chat_id\")"
   ]
  }
 ],
 "metadata": {
  "kernelspec": {
   "display_name": "Python 3",
   "language": "python",
   "name": "python3"
  },
  "language_info": {
   "codemirror_mode": {
    "name": "ipython",
    "version": 3
   },
   "file_extension": ".py",
   "mimetype": "text/x-python",
   "name": "python",
   "nbconvert_exporter": "python",
   "pygments_lexer": "ipython3",
   "version": "3.10.12"
  }
 },
 "nbformat": 4,
 "nbformat_minor": 2
}
