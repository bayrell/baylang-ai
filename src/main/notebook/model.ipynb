{
 "cells": [
  {
   "cell_type": "code",
   "execution_count": 1,
   "metadata": {},
   "outputs": [],
   "source": [
    "import sys, os\n",
    "sys.dont_write_bytecode = True\n",
    "sys.path.append(os.path.join(os.path.dirname(os.getcwd()), \"backend\"))\n",
    "\n",
    "# Автоперезагрузка файлов\n",
    "%load_ext autoreload\n",
    "%autoreload 2\n",
    "\n",
    "# Set env\n",
    "os.environ[\"PYTHONDONTWRITEBYTECODE\"] = \"1\"\n",
    "os.environ[\"MYSQL_HOST\"] = \"database_mysql\"\n",
    "os.environ[\"MYSQL_USERNAME\"] = \"baylang_ai\"\n",
    "os.environ[\"MYSQL_PASSWORD\"] = \"baylang_ai\"\n",
    "os.environ[\"MYSQL_DATABASE\"] = \"baylang_ai\""
   ]
  },
  {
   "cell_type": "code",
   "execution_count": 29,
   "metadata": {},
   "outputs": [],
   "source": [
    "import re\n",
    "from ai import Question\n",
    "from app import App\n",
    "from langchain_core.messages import AIMessage, AIMessageChunk\n",
    "from model import Chat, Message, BlockText\n",
    "from pydantic import BaseModel, PositiveInt\n",
    "from starlette.datastructures import FormData\n",
    "\n",
    "app = App()\n",
    "database = app.get(\"database\")"
   ]
  },
  {
   "cell_type": "code",
   "execution_count": null,
   "metadata": {},
   "outputs": [],
   "source": [
    "chat_id = 3\n",
    "chat = await Chat.get_by_id(database, chat_id)\n",
    "\n",
    "content = [\n",
    "    {\n",
    "        \"block\": \"text\",\n",
    "        \"content\": \"привет\",\n",
    "    }\n",
    "]\n",
    "\n",
    "ai = app.get(\"ai\")\n",
    "message_human, message_ai = await ai.send_question(chat, content)\n",
    "#print(message_ai)"
   ]
  },
  {
   "cell_type": "code",
   "execution_count": null,
   "metadata": {},
   "outputs": [],
   "source": [
    "#display(chat)\n",
    "#display(messages)\n",
    "display(messages[0].get_last_block())"
   ]
  },
  {
   "cell_type": "code",
   "execution_count": 35,
   "metadata": {},
   "outputs": [],
   "source": [
    "chat_items = await Chat.load_all(database)\n",
    "chat_messages = await Message.get_by_chat_id(database, chat=chat_items)\n",
    "Chat.add_foreign_items(chat_items, \"messages\", chat_messages, \"chat_id\")"
   ]
  },
  {
   "cell_type": "code",
   "execution_count": 56,
   "metadata": {},
   "outputs": [
    {
     "name": "stdout",
     "output_type": "stream",
     "text": [
      "привет\n",
      "\n",
      "```javascript\n",
      "a = 1\n",
      "```\n"
     ]
    }
   ],
   "source": [
    "message = Message(\n",
    "    content = [\n",
    "        {\n",
    "            \"block\": \"text\",\n",
    "            \"content\": \"привет\",\n",
    "        },\n",
    "        {\n",
    "            \"block\": \"code\",\n",
    "            \"content\": \"a = 1\",\n",
    "            \"language\": \"javascript\"\n",
    "        }\n",
    "    ]\n",
    ")\n",
    "print(message.get_text())"
   ]
  }
 ],
 "metadata": {
  "kernelspec": {
   "display_name": "Python 3",
   "language": "python",
   "name": "python3"
  },
  "language_info": {
   "codemirror_mode": {
    "name": "ipython",
    "version": 3
   },
   "file_extension": ".py",
   "mimetype": "text/x-python",
   "name": "python",
   "nbconvert_exporter": "python",
   "pygments_lexer": "ipython3",
   "version": "3.10.12"
  }
 },
 "nbformat": 4,
 "nbformat_minor": 2
}
