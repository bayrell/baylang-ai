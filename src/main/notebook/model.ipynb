{
 "cells": [
  {
   "cell_type": "code",
   "execution_count": 1,
   "metadata": {},
   "outputs": [],
   "source": [
    "import sys, os\n",
    "sys.dont_write_bytecode = True\n",
    "sys.path.append(os.path.join(os.path.dirname(os.getcwd()), \"backend\"))\n",
    "\n",
    "# Автоперезагрузка файлов\n",
    "%load_ext autoreload\n",
    "%autoreload 2\n",
    "\n",
    "# Set env\n",
    "os.environ[\"PYTHONDONTWRITEBYTECODE\"] = \"1\"\n",
    "os.environ[\"MYSQL_HOST\"] = \"database_mysql\"\n",
    "os.environ[\"MYSQL_USERNAME\"] = \"baylang_ai\"\n",
    "os.environ[\"MYSQL_PASSWORD\"] = \"baylang_ai\"\n",
    "os.environ[\"MYSQL_DATABASE\"] = \"baylang_ai\""
   ]
  },
  {
   "cell_type": "code",
   "execution_count": 2,
   "metadata": {},
   "outputs": [],
   "source": [
    "from ai import Builder\n",
    "from app import App\n",
    "from model import Agent, Chat, Message\n",
    "\n",
    "app = App()\n",
    "database = app.get(\"database\")"
   ]
  },
  {
   "cell_type": "code",
   "execution_count": 3,
   "metadata": {},
   "outputs": [],
   "source": [
    "agent_id = 1\n",
    "chat_id = 17\n",
    "\n",
    "chat = await Chat.get_by_id(database, chat_id)\n",
    "agent = await Agent.get_by_id(database, agent_id)\n",
    "\n",
    "await agent.bind_llm(database)\n",
    "\n",
    "content = [\n",
    "    {\n",
    "        \"block\": \"text\",\n",
    "        \"content\": \"Сделай суммаризацию текста\",\n",
    "    }\n",
    "]\n",
    "\n",
    "ai = app.get(\"ai\")\n",
    "ai.set_agent(agent)\n",
    "ai.set_content(content)\n",
    "ai.set_chat(chat)\n",
    "#await ai.send_content()\n",
    "#print(ai.message_ai)\n",
    "\n",
    "await ai.load()\n",
    "\n",
    "#display(agent.llm)\n",
    "#display(agent.factory())"
   ]
  },
  {
   "cell_type": "code",
   "execution_count": 4,
   "metadata": {},
   "outputs": [
    {
     "data": {
      "text/plain": [
       "[SystemMessage(content='Ты консультант для программистов. Отвечай на русском языке в деловом стиле.\\nИстория:\\nHuman:\\nПривет. Что это за код:\\n\\n```\\na = a + b\\n```\\n\\nAI:\\nЗдесь выполняется простое математическое действие: переменная `a` обновляется своим текущим значением плюс значением переменной `b`. Это типичный синтаксис, используемый в программах на языках программирования как Python для изменения значения одной переменной.\\n\\nHuman:\\nна каком языке может быть эта программа. Предложи несколько вариантов\\n\\nAI:', additional_kwargs={}, response_metadata={}),\n",
       " HumanMessage(content='Сделай суммаризацию текста', additional_kwargs={}, response_metadata={})]"
      ]
     },
     "execution_count": 4,
     "metadata": {},
     "output_type": "execute_result"
    }
   ],
   "source": [
    "ai.question.get_prompt()"
   ]
  },
  {
   "cell_type": "code",
   "execution_count": 5,
   "metadata": {},
   "outputs": [
    {
     "name": "stdout",
     "output_type": "stream",
     "text": [
      "Код `a = a + b` демонстрирует простую математическую операцию для изменения значения переменной в программе. Этот синтаксис может быть использован на различных языках программирования, таких как Python, JavaScript и других, которые поддерживают类似的编程风格。\n"
     ]
    }
   ],
   "source": [
    "await ai.send_message()"
   ]
  },
  {
   "cell_type": "code",
   "execution_count": 12,
   "metadata": {},
   "outputs": [
    {
     "data": {
      "text/plain": [
       "Message(id=134, chat_id=17, sender='ai', content=[BlockText(block='text', content='Код `a = a + b` является простым примером математической операции, где переменная `a` обновляется своим текущим значением плюс значением переменной `b`. Этот синтаксис может быть использован на языках программирования как Python, JavaScript или C#.Код `a = a + b` является простым примером математической операции присваивания, где значение переменной `a` обновляется путем сложения ее текущего значения с значением переменной `b`. Этот код может быть написан на Python, JavaScript или C#, основываясь на его синтаксисе.Код `a = a + b` представляет собой простое математическое выражение, использующееся для обновления значения переменной `a` путем прибавления к ней текущего значения переменной `b`. Этот код может быть написан на Python, JavaScript или C#, основываясь на схожести синтаксиса.Код `a = a + b` является простым примером математической операции, где переменная `a` обновляется своим текущим значением плюс значением переменной `b`. Этот синтаксис может быть использован на яКод `a = a + b` является простым математическим выражКод `a = a + b` выполняет простое математическое действие, где переменная `a` обновляется своим текущим значением плюс значением переменной `b`. Этот код может быть написан на языках программирования таких как Python, JavaScript или C#.')], input_tokens=1596, output_tokens=297, total_tokens=1893, gmtime_created=datetime.datetime(2025, 8, 8, 7, 47, 53, tzinfo=datetime.timezone.utc), gmtime_updated=datetime.datetime(2025, 8, 8, 7, 47, 53, tzinfo=datetime.timezone.utc))"
      ]
     },
     "execution_count": 12,
     "metadata": {},
     "output_type": "execute_result"
    }
   ],
   "source": [
    "ai.message_ai"
   ]
  },
  {
   "cell_type": "code",
   "execution_count": 16,
   "metadata": {},
   "outputs": [
    {
     "name": "stdout",
     "output_type": "stream",
     "text": [
      "None\n"
     ]
    }
   ],
   "source": [
    "message = await Message.get_by_id(database, id=132)\n",
    "print(message)"
   ]
  },
  {
   "cell_type": "code",
   "execution_count": 12,
   "metadata": {},
   "outputs": [
    {
     "name": "stdout",
     "output_type": "stream",
     "text": [
      "[SystemMessage(content='Ты консультант для программистов. Отвечай на русском языке в деловом стиле. a < b\\nИстория:\\nМы обсуждали многопоточность в Python', additional_kwargs={}, response_metadata={}), HumanMessage(content='Объясни, зачем нужны блокировки', additional_kwargs={}, response_metadata={})]\n"
     ]
    }
   ],
   "source": [
    "from ai.question import Builder, BuilderXML\n",
    "\n",
    "prompt = \"\"\"\n",
    "<system>\n",
    "Ты консультант для программистов. Отвечай на русском языке в деловом стиле. a < b\n",
    "История:\n",
    "%HISTORY%\n",
    "</system>\n",
    "<user>\n",
    "%QUERY%\n",
    "</user>\n",
    "\"\"\"\n",
    "builder = Builder(prompt)\n",
    "messages = builder.get_result({\n",
    "    \"history\": \"Мы обсуждали многопоточность в Python\",\n",
    "    \"query\": \"Объясни, зачем нужны блокировки\",\n",
    "})\n",
    "print(messages)"
   ]
  }
 ],
 "metadata": {
  "kernelspec": {
   "display_name": "Python 3",
   "language": "python",
   "name": "python3"
  },
  "language_info": {
   "codemirror_mode": {
    "name": "ipython",
    "version": 3
   },
   "file_extension": ".py",
   "mimetype": "text/x-python",
   "name": "python",
   "nbconvert_exporter": "python",
   "pygments_lexer": "ipython3",
   "version": "3.10.12"
  }
 },
 "nbformat": 4,
 "nbformat_minor": 2
}
