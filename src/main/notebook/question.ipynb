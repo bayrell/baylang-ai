{
 "cells": [
  {
   "cell_type": "code",
   "execution_count": 1,
   "metadata": {},
   "outputs": [],
   "source": [
    "import sys, os\n",
    "sys.dont_write_bytecode = True\n",
    "sys.path.append(os.path.join(os.path.dirname(os.getcwd()), \"backend\"))\n",
    "\n",
    "# Автоперезагрузка файлов\n",
    "%load_ext autoreload\n",
    "%autoreload 2\n",
    "\n",
    "# Set env\n",
    "os.environ[\"PYTHONDONTWRITEBYTECODE\"] = \"1\""
   ]
  },
  {
   "cell_type": "code",
   "execution_count": 2,
   "metadata": {},
   "outputs": [],
   "source": [
    "from app import App\n",
    "from model import Message, BlockCode, BlockText\n",
    "from langchain_core.messages import AIMessage, AIMessageChunk"
   ]
  },
  {
   "cell_type": "code",
   "execution_count": null,
   "metadata": {},
   "outputs": [
    {
     "name": "stdout",
     "output_type": "stream",
     "text": [
      "{'id': 0, 'chat_id': None, 'chat': None, 'sender': 'ai', 'content': '[{\"block\": \"text\", \"content\": \"Код на JS:\"}, {\"block\": \"code\", \"content\": \"```javascript\\\\na = 1\\\\na = 2\\\\na = 3\\\\n```\"}, {\"block\": \"text\", \"content\": \"\"}]', 'input_tokens': 0, 'output_tokens': 0, 'total_tokens': 0, 'gmtime_created': None, 'gmtime_updated': None}\n"
     ]
    }
   ],
   "source": [
    "message = Message()\n",
    "message.sender = Message.SENDER_AI\n",
    "message.add_chunk(AIMessageChunk(\"Код на JS:\\n\\n\"))\n",
    "message.add_chunk(AIMessageChunk(\"```javascript\\n\"))\n",
    "message.add_chunk(AIMessageChunk(\"a = 1\\n\"))\n",
    "message.add_chunk(AIMessageChunk(\"a = 2\\n\"))\n",
    "message.add_chunk(AIMessageChunk(\"a = 3\\n\"))\n",
    "message.add_chunk(AIMessageChunk(\"```\"))\n",
    "message.add_chunk(AIMessageChunk(\"\\n\"))\n",
    "print(Message.to_database(message))"
   ]
  },
  {
   "cell_type": "code",
   "execution_count": 30,
   "metadata": {},
   "outputs": [
    {
     "data": {
      "text/plain": [
       "model.Message"
      ]
     },
     "execution_count": 30,
     "metadata": {},
     "output_type": "execute_result"
    }
   ],
   "source": [
    "message.__class__"
   ]
  }
 ],
 "metadata": {
  "kernelspec": {
   "display_name": "Python 3",
   "language": "python",
   "name": "python3"
  },
  "language_info": {
   "codemirror_mode": {
    "name": "ipython",
    "version": 3
   },
   "file_extension": ".py",
   "mimetype": "text/x-python",
   "name": "python",
   "nbconvert_exporter": "python",
   "pygments_lexer": "ipython3",
   "version": "3.10.12"
  }
 },
 "nbformat": 4,
 "nbformat_minor": 2
}
