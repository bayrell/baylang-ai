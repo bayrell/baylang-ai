{
 "cells": [
  {
   "cell_type": "code",
   "execution_count": 1,
   "metadata": {},
   "outputs": [],
   "source": [
    "import sys, os\n",
    "import numpy as np\n",
    "import faiss\n",
    "import torch\n",
    "from ai import *\n",
    "from langchain_community.docstore.in_memory import InMemoryDocstore\n",
    "from langchain_community.vectorstores import FAISS\n",
    "from langchain_huggingface import HuggingFaceEmbeddings\n",
    "from langchain_ollama import ChatOllama\n",
    "from sentence_transformers import CrossEncoder\n",
    "from transformers import AutoTokenizer, AutoModel, pipeline\n",
    "from tqdm import tqdm"
   ]
  },
  {
   "cell_type": "code",
   "execution_count": 2,
   "metadata": {},
   "outputs": [],
   "source": [
    "# Автоперезагрузка файлов\n",
    "%load_ext autoreload\n",
    "%autoreload 2"
   ]
  },
  {
   "cell_type": "code",
   "execution_count": 3,
   "metadata": {},
   "outputs": [],
   "source": [
    "os.environ[\"PYTHONDONTWRITEBYTECODE\"] = \"1\""
   ]
  },
  {
   "cell_type": "markdown",
   "metadata": {},
   "source": [
    "Load AI"
   ]
  },
  {
   "cell_type": "code",
   "execution_count": 4,
   "metadata": {},
   "outputs": [],
   "source": [
    "ai = AI()\n",
    "ai.database_path = os.path.abspath(\"../../var/database\")\n",
    "ai.device = \"cpu\"\n",
    "ai.load_store()\n",
    "ai.init_llm()"
   ]
  },
  {
   "cell_type": "markdown",
   "metadata": {},
   "source": [
    "Send question"
   ]
  },
  {
   "cell_type": "code",
   "execution_count": null,
   "metadata": {},
   "outputs": [],
   "source": [
    "history = []\n",
    "question = \"Что такое облачная BAYRELL Cloud OS?\"\n",
    "#question = \"Как ее установить BAYRELL Cloud OS?\"\n",
    "\n",
    "# Получить промт\n",
    "result = await ai.get_prompt(history, question)\n",
    "#ai.print_documents(result[\"docs\"])\n",
    "print(result[\"prompt\"])\n",
    "\n",
    "# Отправим вопрос LLM\n",
    "for chunk in ai.llm_answer.stream(result[\"prompt\"], stream=True):\n",
    "    print(chunk.content, end=\"\", flush=True)"
   ]
  },
  {
   "cell_type": "code",
   "execution_count": null,
   "metadata": {},
   "outputs": [],
   "source": [
    "history = [\n",
    "    {\n",
    "        \"sender\": \"human\",\n",
    "        \"text\": \"Что такое облачная BAYRELL Cloud OS?\",\n",
    "    }\n",
    "]\n",
    "question = \"Как его установить на сервер?\"\n",
    "result = await ai.get_prompt(history, question)\n",
    "#ai.print_documents(result[\"docs\"])\n",
    "\n",
    "# Отправим вопрос LLM\n",
    "for chunk in ai.llm_answer.stream(result[\"prompt\"], stream=True):\n",
    "    print(chunk.content, end=\"\", flush=True)"
   ]
  },
  {
   "cell_type": "code",
   "execution_count": null,
   "metadata": {},
   "outputs": [],
   "source": [
    "# Загружаем модель\n",
    "qa_pipeline = pipeline(\"question-answering\", model=\"DeepPavlov/rubert-base-cased-squad2\")"
   ]
  },
  {
   "cell_type": "code",
   "execution_count": null,
   "metadata": {},
   "outputs": [],
   "source": [
    "def filter_docs_qa(docs, question):\n",
    "    relevant_docs = []\n",
    "    for doc in docs:\n",
    "        result = qa_pipeline(question=question, context=doc.page_content)\n",
    "        if result['score'] > 0.5:  # Фильтр по уверенности\n",
    "            relevant_docs.append(doc)\n",
    "    return relevant_docs"
   ]
  },
  {
   "cell_type": "code",
   "execution_count": null,
   "metadata": {},
   "outputs": [],
   "source": [
    "# Запрос и кандидаты\n",
    "query = \"Что такое Облачная ОС?\"\n",
    "documents = [\n",
    "    \"Облачная ОС — это операционная система, работающая в облаке.\",\n",
    "    \"Компьютерная сеть — это соединение устройств для обмена данными.\",\n",
    "    \"Linux — это операционная система с открытым кодом.\"\n",
    "]\n",
    "\n",
    "# Формируем пары (query, document)\n",
    "pairs = [(query, doc) for doc in documents]\n",
    "\n",
    "reranker = CrossEncoder('cross-encoder/ms-marco-MiniLM-L-6-v2')\n",
    "#reranker = CrossEncoder('cross-encoder/ms-marco-MiniLM-L-12-v2')\n",
    "#reranker = CrossEncoder('cross-encoder/stsb-TinyBERT-L-2')\n",
    "\n",
    "# Предсказываем релевантность (чем выше — тем лучше)\n",
    "scores = reranker.predict(pairs)\n",
    "\n",
    "# Сортируем документы по убыванию оценки\n",
    "ranked_docs = sorted(zip(documents, scores), key=lambda x: x[1], reverse=True)\n",
    "\n",
    "# Выводим результаты\n",
    "for i, (doc, score) in enumerate(ranked_docs):\n",
    "    print(f\"Rank {i+1}: {doc} (Score: {score:.4f})\")\n"
   ]
  },
  {
   "cell_type": "code",
   "execution_count": null,
   "metadata": {},
   "outputs": [],
   "source": [
    "class Test1:\n",
    "    def __init__(self, model_name):\n",
    "        self.model = HuggingFaceEmbeddings(\n",
    "            model_name=model_name\n",
    "        )\n",
    "        self.model_name = model_name\n",
    "        \n",
    "    def get_embeddings(self, text):\n",
    "        embeddings = self.model.embed_documents([text])\n",
    "        return np.array(embeddings[0])\n",
    "\n",
    "\n",
    "class Test2:\n",
    "    def __init__(self, model_name):\n",
    "        self.tokenizer = AutoTokenizer.from_pretrained(model_name)\n",
    "        self.model = AutoModel.from_pretrained(model_name)\n",
    "        self.model_name = model_name\n",
    "\n",
    "    def get_embeddings(self, text):\n",
    "        t = self.tokenizer(text, padding=True, truncation=True, return_tensors='pt')\n",
    "        with torch.no_grad():\n",
    "            model_output = self.model(**{k: v.to(self.model.device) for k, v in t.items()})\n",
    "        #embeddings = model_output.last_hidden_state[:, 0, :]\n",
    "        embeddings = model_output.last_hidden_state.mean(dim=1)\n",
    "        embeddings = torch.nn.functional.normalize(embeddings)\n",
    "        return embeddings[0].cpu().numpy()\n",
    "\n",
    "\n",
    "model_name = \"cointegrated/rubert-tiny2\"\n",
    "test1 = Test1(model_name)\n",
    "test2 = Test2(model_name)\n",
    "\n",
    "text = \"Hello world\"\n",
    "emb1 = test1.get_embeddings(text)\n",
    "emb2 = test2.get_embeddings(text)\n",
    "print(emb1 == emb2)"
   ]
  }
 ],
 "metadata": {
  "kernelspec": {
   "display_name": "Python 3.10.12 64-bit",
   "language": "python",
   "name": "python3"
  },
  "language_info": {
   "codemirror_mode": {
    "name": "ipython",
    "version": 3
   },
   "file_extension": ".py",
   "mimetype": "text/x-python",
   "name": "python",
   "nbconvert_exporter": "python",
   "pygments_lexer": "ipython3",
   "version": "3.10.12"
  },
  "orig_nbformat": 4,
  "vscode": {
   "interpreter": {
    "hash": "916dbcbb3f70747c44a77c7bcd40155683ae19c65e1c03b4aa3499c5328201f1"
   }
  }
 },
 "nbformat": 4,
 "nbformat_minor": 2
}
