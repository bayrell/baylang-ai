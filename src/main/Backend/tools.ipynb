{
 "cells": [
  {
   "cell_type": "code",
   "execution_count": 7,
   "metadata": {},
   "outputs": [],
   "source": [
    "import sys, os\n",
    "import numpy as np\n",
    "import faiss\n",
    "import torch\n",
    "from ai import *\n",
    "from langchain.agents import create_tool_calling_agent, initialize_agent, AgentExecutor, AgentType\n",
    "from langchain.agents.format_scratchpad.tools import format_to_tool_messages\n",
    "from langchain.agents.output_parsers.tools import ToolsAgentOutputParser\n",
    "from langchain.tools import Tool\n",
    "from langchain_core.agents import AgentAction, AgentFinish, AgentStep\n",
    "from langchain_core.runnables import Runnable, RunnablePassthrough\n",
    "from langchain_core.tools import tool\n",
    "from langchain_core.prompts import ChatPromptTemplate, MessagesPlaceholder\n",
    "from langchain_community.docstore.in_memory import InMemoryDocstore\n",
    "from langchain_community.vectorstores import FAISS\n",
    "from langchain_huggingface import HuggingFaceEmbeddings\n",
    "from langchain_ollama import ChatOllama\n",
    "from langgraph.prebuilt import create_react_agent\n",
    "from IPython.display import Image, display\n",
    "from sentence_transformers import CrossEncoder\n",
    "from transformers import AutoTokenizer, AutoModel, pipeline\n",
    "from tqdm import tqdm"
   ]
  },
  {
   "cell_type": "code",
   "execution_count": 2,
   "metadata": {},
   "outputs": [],
   "source": [
    "# Автоперезагрузка файлов\n",
    "%load_ext autoreload\n",
    "%autoreload 2"
   ]
  },
  {
   "cell_type": "code",
   "execution_count": 3,
   "metadata": {},
   "outputs": [],
   "source": [
    "os.environ[\"PYTHONDONTWRITEBYTECODE\"] = \"1\""
   ]
  },
  {
   "cell_type": "markdown",
   "metadata": {},
   "source": [
    "Load AI"
   ]
  },
  {
   "cell_type": "code",
   "execution_count": 4,
   "metadata": {},
   "outputs": [],
   "source": [
    "ai = AI()\n",
    "ai.database_path = os.path.abspath(\"../../var/database\")\n",
    "ai.device = \"cpu\"\n",
    "ai.load_store()\n",
    "ai.init_llm()"
   ]
  },
  {
   "cell_type": "code",
   "execution_count": 92,
   "metadata": {},
   "outputs": [],
   "source": [
    "# Определим функции\n",
    "@tool\n",
    "def add_tool(a, b):\n",
    "    \"\"\"Складывает два числа 'a' и 'b'\"\"\"\n",
    "    return a + b\n",
    "\n",
    "@tool\n",
    "def multiply_tool(a, b):\n",
    "    \"\"\"Перемножает два числа 'a' и 'b'\"\"\"\n",
    "    return a * b\n",
    "\n",
    "@tool\n",
    "def magic_function(input):\n",
    "    \"\"\"Applies a magic function to an input.\"\"\"\n",
    "    return input + 2\n",
    "\n",
    "def find_tool(item):\n",
    "    for tool in tools:\n",
    "        if tool.name == item.tool:\n",
    "            return tool\n",
    "\n",
    "def next_step(items):\n",
    "    \n",
    "    response = []\n",
    "    for item in items:\n",
    "        tool = find_tool(item)\n",
    "        observation = None\n",
    "        \n",
    "        if tool:\n",
    "            observation = tool.run(item.tool_input)\n",
    "        \n",
    "        response.append((item, observation))\n",
    "    \n",
    "    return response\n",
    "\n",
    "tools = [add_tool, multiply_tool, magic_function]\n",
    "tool_calling_prompt = ChatPromptTemplate.from_messages(\n",
    "    [\n",
    "        (\"system\", \"Ты консультант для программистов. Отвечай на русском языке в деловом стиле\"),\n",
    "        (\"human\", \"{input}\"),\n",
    "        (\"placeholder\", \"{agent_scratchpad}\"),\n",
    "    ]\n",
    ")\n",
    "first_prompt = RunnablePassthrough.assign(\n",
    "    agent_scratchpad=lambda item: format_to_tool_messages(item[\"intermediate_steps\"])\n",
    ")\n",
    "llm_with_tools = ai.llm_answer.bind_tools(tools)\n",
    "output_parser = ToolsAgentOutputParser()\n",
    "agent = create_tool_calling_agent(ai.llm_answer, tools, prompt=tool_calling_prompt)\n",
    "agent_executor = AgentExecutor(agent=agent, tools=tools)"
   ]
  },
  {
   "cell_type": "code",
   "execution_count": 65,
   "metadata": {},
   "outputs": [
    {
     "name": "stdout",
     "output_type": "stream",
     "text": [
      "{'input': 'Выполни magic_function(7)? Ответ:', 'output': 'Привет! Я выполнил функцию magic_function с аргументом 7 и получил результат: 9. Это может быть каким-то магическим эффектом, который я не могу описать подробнее.'}\n"
     ]
    }
   ],
   "source": [
    "# Query\n",
    "query = \"Выполни magic_function(7)\"\n",
    "prompt = {\"input\": query}\n",
    "print(agent_executor.invoke(prompt))"
   ]
  },
  {
   "cell_type": "code",
   "execution_count": null,
   "metadata": {},
   "outputs": [],
   "source": [
    "# Query\n",
    "query = \"Сколько будет 5 + 7. Ответ:\"\n",
    "\n",
    "# Get tool\n",
    "prompt = {\"input\": query, \"intermediate_steps\": []}\n",
    "prompt = first_prompt.invoke(prompt)\n",
    "prompt = tool_calling_prompt.invoke(prompt)\n",
    "prompt = llm_with_tools.invoke(prompt)\n",
    "response = output_parser.invoke(prompt)\n",
    "print(response)\n",
    "\n",
    "# Answer\n",
    "prompt = {\"input\": query, \"intermediate_steps\": next_step(response)}\n",
    "prompt = first_prompt.invoke(prompt)\n",
    "prompt = tool_calling_prompt.invoke(prompt)\n",
    "for chunk in ai.llm_answer.stream(prompt, stream=True):\n",
    "    print(chunk.content, end=\"\", flush=True)\n",
    "\n",
    "#prompt = llm_with_tools.invoke(prompt)\n",
    "#answer = output_parser.invoke(prompt)\n",
    "#print(answer)"
   ]
  },
  {
   "cell_type": "code",
   "execution_count": null,
   "metadata": {},
   "outputs": [],
   "source": [
    "# Get tool\n",
    "prompt = {\"input\": query, \"intermediate_steps\": []}\n",
    "prompt = first_prompt.invoke(prompt)\n",
    "prompt = tool_calling_prompt.invoke(prompt)\n",
    "for chunk in ai.llm_answer.stream(prompt, stream=True):\n",
    "    print(chunk.content, end=\"\", flush=True)\n",
    "\n",
    "#prompt = ai.llm_answer.invoke(prompt)\n",
    "#response = output_parser.invoke(prompt)\n",
    "#print(response)"
   ]
  },
  {
   "cell_type": "code",
   "execution_count": 72,
   "metadata": {},
   "outputs": [
    {
     "name": "stdout",
     "output_type": "stream",
     "text": [
      "return_values={'output': 'Привет! Я выполнил функцию magic_function с аргументом 7 и получил результат: 0. Это может быть каким-то умным образом, но в данном случае оно не указывает на конкретный результат. Если ты хочешь узнать больше деталей, я могу попробовать объяснить это через другие функции или методы.'} log='Привет! Я выполнил функцию magic_function с аргументом 7 и получил результат: 0. Это может быть каким-то умным образом, но в данном случае оно не указывает на конкретный результат. Если ты хочешь узнать больше деталей, я могу попробовать объяснить это через другие функции или методы.'\n"
     ]
    }
   ],
   "source": [
    "# Answer\n",
    "prompt = {\"input\": query, \"intermediate_steps\": next_step(response)}\n",
    "print(agent.invoke(prompt))"
   ]
  }
 ],
 "metadata": {
  "kernelspec": {
   "display_name": "Python 3.10.12 64-bit",
   "language": "python",
   "name": "python3"
  },
  "language_info": {
   "codemirror_mode": {
    "name": "ipython",
    "version": 3
   },
   "file_extension": ".py",
   "mimetype": "text/x-python",
   "name": "python",
   "nbconvert_exporter": "python",
   "pygments_lexer": "ipython3",
   "version": "3.10.12"
  },
  "orig_nbformat": 4,
  "vscode": {
   "interpreter": {
    "hash": "916dbcbb3f70747c44a77c7bcd40155683ae19c65e1c03b4aa3499c5328201f1"
   }
  }
 },
 "nbformat": 4,
 "nbformat_minor": 2
}
